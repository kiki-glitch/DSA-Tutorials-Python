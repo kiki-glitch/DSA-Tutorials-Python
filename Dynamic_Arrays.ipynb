{
  "nbformat": 4,
  "nbformat_minor": 0,
  "metadata": {
    "colab": {
      "provenance": [],
      "authorship_tag": "ABX9TyNioTTIEO6iZk/Bma7WT848",
      "include_colab_link": true
    },
    "kernelspec": {
      "name": "python3",
      "display_name": "Python 3"
    },
    "language_info": {
      "name": "python"
    }
  },
  "cells": [
    {
      "cell_type": "markdown",
      "metadata": {
        "id": "view-in-github",
        "colab_type": "text"
      },
      "source": [
        "<a href=\"https://colab.research.google.com/github/kiki-glitch/DSA-Tutorials-Python/blob/main/Dynamic_Arrays.ipynb\" target=\"_parent\"><img src=\"https://colab.research.google.com/assets/colab-badge.svg\" alt=\"Open In Colab\"/></a>"
      ]
    },
    {
      "cell_type": "code",
      "execution_count": 1,
      "metadata": {
        "id": "q_qJdwRHFLzA"
      },
      "outputs": [],
      "source": [
        "from __future__ import annotations\n",
        "from typing import Generic, Iterator, List, Optional, TypeVar"
      ]
    },
    {
      "cell_type": "code",
      "source": [
        "T = TypeVar('T')"
      ],
      "metadata": {
        "id": "xTd8vJo5FkDB"
      },
      "execution_count": 2,
      "outputs": []
    },
    {
      "cell_type": "code",
      "source": [
        "from __future__ import annotations\n",
        "from typing import Generic, Iterator, List, Optional, TypeVar\n",
        "\n",
        "T = TypeVar(\"T\")\n",
        "\n",
        "class DynamicArray(Generic[T]):\n",
        "    \"\"\"\n",
        "    A generic dynamic array implementation in Python.\n",
        "    - Starts with a given capacity (default 16)\n",
        "    - Doubles capacity on growth when full\n",
        "    - Shrinks only when removing via remove_at (to len-1 as per the Java code)\n",
        "    \"\"\"\n",
        "\n",
        "    def __init__(self, capacity: int = 16) -> None:\n",
        "        if capacity < 0:\n",
        "            raise ValueError(f\"Illegal Capacity: {capacity}\")\n",
        "        self._capacity: int = capacity\n",
        "        self._len: int = 0\n",
        "        # Internal storage is a fixed-size list padded with None\n",
        "        self._arr: List[Optional[T]] = [None] * capacity\n",
        "\n",
        "    # --- size & emptiness ---\n",
        "    def size(self) -> int:\n",
        "        return self._len\n",
        "\n",
        "    def __len__(self) -> int:\n",
        "        return self._len\n",
        "\n",
        "    def is_empty(self) -> bool:\n",
        "        return self._len == 0\n",
        "\n",
        "    # --- index access ---\n",
        "    def _check_bounds(self, index: int) -> None:\n",
        "        if index < 0 or index >= self._len:\n",
        "            raise IndexError(\"Index out of bounds\")\n",
        "\n",
        "    def get(self, index: int) -> T:\n",
        "        self._check_bounds(index)\n",
        "        # We stored Optional[T], but bounds guarantee non-None for assigned slots\n",
        "        return self._arr[index]  # type: ignore[return-value]\n",
        "\n",
        "    def __getitem__(self, index: int) -> T:\n",
        "        return self.get(index)\n",
        "\n",
        "    def set(self, index: int, elem: T) -> None:\n",
        "        self._check_bounds(index)\n",
        "        self._arr[index] = elem\n",
        "\n",
        "    def __setitem__(self, index: int, elem: T) -> None:\n",
        "        self.set(index, elem)\n",
        "\n",
        "    # --- clear ---\n",
        "    def clear(self) -> None:\n",
        "        for i in range(self._len):\n",
        "            self._arr[i] = None\n",
        "        self._len = 0\n",
        "\n",
        "    # --- add / append with automatic resize ---\n",
        "    def add(self, elem: T) -> None:\n",
        "        # Time to resize?\n",
        "        if self._len + 1 >= self._capacity:\n",
        "            if self._capacity == 0:\n",
        "                self._capacity = 1\n",
        "            else:\n",
        "                self._capacity *= 2\n",
        "            new_arr: List[Optional[T]] = [None] * self._capacity\n",
        "            for i in range(self._len):\n",
        "                new_arr[i] = self._arr[i]\n",
        "            self._arr = new_arr\n",
        "\n",
        "        self._arr[self._len] = elem\n",
        "        self._len += 1\n",
        "\n",
        "    def append(self, elem: T) -> None:\n",
        "        \"\"\"Pythonic alias for add().\"\"\"\n",
        "        self.add(elem)\n",
        "\n",
        "    # --- remove by index ---\n",
        "    def remove_at(self, rm_index: int) -> T:\n",
        "        self._check_bounds(rm_index)\n",
        "        data = self._arr[rm_index]  # Optional[T], but truly assigned\n",
        "        # Create a new array with size len-1 (matching the Java behavior)\n",
        "        new_arr: List[Optional[T]] = [None] * (self._len - 1)\n",
        "        j = 0\n",
        "        for i in range(self._len):\n",
        "            if i == rm_index:\n",
        "                continue\n",
        "            new_arr[j] = self._arr[i]\n",
        "            j += 1\n",
        "        self._arr = new_arr\n",
        "        self._len -= 1\n",
        "        self._capacity = self._len  # mirrors: capacity = --len\n",
        "        return data  # type: ignore[return-value]\n",
        "\n",
        "    # --- remove by value ---\n",
        "    def remove(self, obj: object) -> bool:\n",
        "        idx = self.index_of(obj)\n",
        "        if idx == -1:\n",
        "            return False\n",
        "        self.remove_at(idx)\n",
        "        return True\n",
        "\n",
        "    # --- search ---\n",
        "    def index_of(self, obj: object) -> int:\n",
        "        for i in range(self._len):\n",
        "            if obj is None:\n",
        "                if self._arr[i] is None:\n",
        "                    return i\n",
        "            else:\n",
        "                if obj == self._arr[i]:\n",
        "                    return i\n",
        "        return -1\n",
        "\n",
        "    def contains(self, obj: object) -> bool:\n",
        "        return self.index_of(obj) != -1\n",
        "\n",
        "    # --- iterator ---\n",
        "    def __iter__(self) -> Iterator[T]:\n",
        "        index = 0\n",
        "        while index < self._len:\n",
        "            # _arr[index] is Optional[T], but within len it’s assigned\n",
        "            yield self._arr[index]  # type: ignore[misc]\n",
        "            index += 1\n",
        "\n",
        "    # --- string / repr ---\n",
        "    def __repr__(self) -> str:\n",
        "        if self._len == 0:\n",
        "            return \"[]\"\n",
        "        # Build like Java's toString: [a, b, c]\n",
        "        parts = []\n",
        "        for i in range(self._len):\n",
        "            parts.append(repr(self._arr[i]))\n",
        "        return \"[\" + \", \".join(parts) + \"]\"\n",
        "\n",
        "    def __str__(self) -> str:\n",
        "        # Human-friendly without quotes for basic types\n",
        "        if self._len == 0:\n",
        "            return \"[]\"\n",
        "        parts = []\n",
        "        for i in range(self._len):\n",
        "            parts.append(str(self._arr[i]))\n",
        "        return \"[\" + \", \".join(parts) + \"]\"\n"
      ],
      "metadata": {
        "id": "2myDdiF8FkAQ"
      },
      "execution_count": 9,
      "outputs": []
    },
    {
      "cell_type": "code",
      "source": [
        "da = DynamicArray() # Create an instance of DynamicArray\n",
        "da.add(10)\n",
        "da.add(20)\n",
        "da.add(30)        # triggers resize\n",
        "print(da.size())  # 3\n",
        "print(da[1])      # 20\n",
        "da[1] = 99\n",
        "print(da)         # [10, 99, 30]\n",
        "print(da.index_of(99))  # 1\n",
        "da.remove(10)\n",
        "print(da)         # [99, 30]\n",
        "val = da.remove_at(0)\n",
        "print(val, da)    # 99 [30]"
      ],
      "metadata": {
        "colab": {
          "base_uri": "https://localhost:8080/"
        },
        "id": "1CjNmD3PFj-R",
        "outputId": "1d274c02-377a-42cf-d81f-ce8382e9ad2e"
      },
      "execution_count": 11,
      "outputs": [
        {
          "output_type": "stream",
          "name": "stdout",
          "text": [
            "3\n",
            "20\n",
            "[10, 99, 30]\n",
            "1\n",
            "[99, 30]\n",
            "99 [30]\n"
          ]
        }
      ]
    },
    {
      "cell_type": "code",
      "source": [],
      "metadata": {
        "id": "_cTU4TdBFj8J"
      },
      "execution_count": null,
      "outputs": []
    },
    {
      "cell_type": "code",
      "source": [],
      "metadata": {
        "id": "qHcwMgJWFj5-"
      },
      "execution_count": null,
      "outputs": []
    },
    {
      "cell_type": "code",
      "source": [],
      "metadata": {
        "id": "44JueqXDFj3y"
      },
      "execution_count": null,
      "outputs": []
    },
    {
      "cell_type": "code",
      "source": [],
      "metadata": {
        "id": "RCQ7hcAsFj2A"
      },
      "execution_count": null,
      "outputs": []
    },
    {
      "cell_type": "code",
      "source": [],
      "metadata": {
        "id": "C3IKWK0yFj0J"
      },
      "execution_count": null,
      "outputs": []
    },
    {
      "cell_type": "code",
      "source": [],
      "metadata": {
        "id": "N_CUc8lfFjx_"
      },
      "execution_count": null,
      "outputs": []
    },
    {
      "cell_type": "code",
      "source": [],
      "metadata": {
        "id": "_DKvlCJHFjwG"
      },
      "execution_count": null,
      "outputs": []
    }
  ]
}