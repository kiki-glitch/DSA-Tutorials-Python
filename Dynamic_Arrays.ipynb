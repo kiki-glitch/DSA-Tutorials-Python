{
  "nbformat": 4,
  "nbformat_minor": 0,
  "metadata": {
    "colab": {
      "provenance": [],
      "authorship_tag": "ABX9TyMcilyNi2EUCVEIo3GG2oJU",
      "include_colab_link": true
    },
    "kernelspec": {
      "name": "python3",
      "display_name": "Python 3"
    },
    "language_info": {
      "name": "python"
    }
  },
  "cells": [
    {
      "cell_type": "markdown",
      "metadata": {
        "id": "view-in-github",
        "colab_type": "text"
      },
      "source": [
        "<a href=\"https://colab.research.google.com/github/kiki-glitch/DSA-Tutorials-Python/blob/main/Dynamic_Arrays.ipynb\" target=\"_parent\"><img src=\"https://colab.research.google.com/assets/colab-badge.svg\" alt=\"Open In Colab\"/></a>"
      ]
    },
    {
      "cell_type": "code",
      "execution_count": null,
      "metadata": {
        "id": "q_qJdwRHFLzA"
      },
      "outputs": [],
      "source": [
        "from __future__ import annotations\n",
        "from typing import Generic, Iterator, List, Optional, TypeVar"
      ]
    },
    {
      "cell_type": "code",
      "source": [
        "T = TypeVar('T')"
      ],
      "metadata": {
        "id": "xTd8vJo5FkDB"
      },
      "execution_count": null,
      "outputs": []
    },
    {
      "cell_type": "code",
      "source": [
        "class DynamicArray(Generic[T]):\n",
        "  \"\"\"\n",
        "    A generic dynamic array implementation in Python.\n",
        "    - Starts with a given capacity (default 16)\n",
        "    - Doubles capacity on growth when full\n",
        "    - Shrinks only when removing via remove_at (to len-1 as per the Java code)\n",
        "    \"\"\"\n",
        "\n",
        "  def __init__(self, capacity: int = 16) -> None:\n",
        "    if capacity < 0: raise ValueError(f\"Illegal Capacity: {capacity}\")\n",
        "    self._capacity: int = capacity\n",
        "    self._len: int = 0\n",
        "    self._arr: List[Optional[T]] = [None] * capacity\n",
        "\n",
        "  #--- size & empitness ---\n",
        "  def size(self) -> int:\n",
        "    return self._len\n",
        "\n",
        "  def is_empty(self) -> bool:\n",
        "    if len == 0: return True\n",
        "    return False\n",
        "\n",
        "  def __len__(self) -> int:\n",
        "    self._len\n",
        "\n",
        "  #--- index access ---\n",
        "  def _check_bounds(self, index: int) -> None:\n",
        "    if index < 0 or index >= self._len:\n",
        "      raise IndexError(f\"Index ut of bounds\")\n",
        "\n",
        "  def get(self, index:int) -> T:\n",
        "    self._check_bounds(index)\n",
        "    return self._arr[index] #type: ignore[return-value]\n",
        "\n",
        "  def __getitem__(self, index:int) -> T:\n",
        "    return self.get(index)\n",
        "\n",
        "  def set(self, index:int, elem: T) -> None:\n",
        "    self._check_bounds(index)\n",
        "    self._arr[index] = elem #type: ignore[return-value]\n",
        "\n",
        "  def __setitem__(self, index:int, elem:T) -> None:\n",
        "    return self.set(index, elem)\n",
        "\n",
        "  #clear\n",
        "  def clear()\n",
        "\n"
      ],
      "metadata": {
        "id": "2myDdiF8FkAQ"
      },
      "execution_count": null,
      "outputs": []
    },
    {
      "cell_type": "code",
      "source": [],
      "metadata": {
        "id": "1CjNmD3PFj-R"
      },
      "execution_count": null,
      "outputs": []
    },
    {
      "cell_type": "code",
      "source": [],
      "metadata": {
        "id": "_cTU4TdBFj8J"
      },
      "execution_count": null,
      "outputs": []
    },
    {
      "cell_type": "code",
      "source": [],
      "metadata": {
        "id": "qHcwMgJWFj5-"
      },
      "execution_count": null,
      "outputs": []
    },
    {
      "cell_type": "code",
      "source": [],
      "metadata": {
        "id": "44JueqXDFj3y"
      },
      "execution_count": null,
      "outputs": []
    },
    {
      "cell_type": "code",
      "source": [],
      "metadata": {
        "id": "RCQ7hcAsFj2A"
      },
      "execution_count": null,
      "outputs": []
    },
    {
      "cell_type": "code",
      "source": [],
      "metadata": {
        "id": "C3IKWK0yFj0J"
      },
      "execution_count": null,
      "outputs": []
    },
    {
      "cell_type": "code",
      "source": [],
      "metadata": {
        "id": "N_CUc8lfFjx_"
      },
      "execution_count": null,
      "outputs": []
    },
    {
      "cell_type": "code",
      "source": [],
      "metadata": {
        "id": "_DKvlCJHFjwG"
      },
      "execution_count": null,
      "outputs": []
    }
  ]
}