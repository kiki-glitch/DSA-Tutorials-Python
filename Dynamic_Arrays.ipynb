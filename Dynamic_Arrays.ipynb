{
  "nbformat": 4,
  "nbformat_minor": 0,
  "metadata": {
    "colab": {
      "provenance": [],
      "authorship_tag": "ABX9TyMTXEWTdd4nQu01RehrJyib",
      "include_colab_link": true
    },
    "kernelspec": {
      "name": "python3",
      "display_name": "Python 3"
    },
    "language_info": {
      "name": "python"
    }
  },
  "cells": [
    {
      "cell_type": "markdown",
      "metadata": {
        "id": "view-in-github",
        "colab_type": "text"
      },
      "source": [
        "<a href=\"https://colab.research.google.com/github/kiki-glitch/DSA-Tutorials-Python/blob/main/Dynamic_Arrays.ipynb\" target=\"_parent\"><img src=\"https://colab.research.google.com/assets/colab-badge.svg\" alt=\"Open In Colab\"/></a>"
      ]
    },
    {
      "cell_type": "code",
      "execution_count": null,
      "metadata": {
        "id": "q_qJdwRHFLzA"
      },
      "outputs": [],
      "source": [
        "from __future__ import annotations\n",
        "from typing import Generic, Iterator, List, Optional, TypeVar"
      ]
    },
    {
      "cell_type": "code",
      "source": [
        "T = TypeVar('T')"
      ],
      "metadata": {
        "id": "xTd8vJo5FkDB"
      },
      "execution_count": null,
      "outputs": []
    },
    {
      "cell_type": "code",
      "source": [
        "class DynamicArray(Generic[T]):\n",
        "  \"\"\"\n",
        "    A generic dynamic array implementation in Python.\n",
        "    - Starts with a given capacity (default 16)\n",
        "    - Doubles capacity on growth when full\n",
        "    - Shrinks only when removing via remove_at (to len-1 as per the Java code)\n",
        "    \"\"\"\n",
        "\n",
        "  def __init__(self, capacity: int = 16) -> None:\n",
        "    if capacity < 0: raise ValueError(f\"Illegal Capacity: {capacity}\")\n",
        "    self._capacity: int = capacity\n",
        "    self._len: int = 0\n",
        "    self._arr: List[Optional[T]] = [None] * capacity\n",
        "\n",
        "  #--- size & empitness ---\n",
        "  def size(self) -> int:\n",
        "    return self._len\n",
        "\n",
        "  def is_empty(self) -> bool:\n",
        "    if len == 0: return True\n",
        "    return False\n",
        "\n",
        "  def __len__(self) -> int:\n",
        "    self._len\n",
        "\n",
        "  #--- index access ---\n",
        "  def _check_bounds(self, index: int) -> None:\n",
        "    if index < 0 or index >= self._len:\n",
        "      raise IndexError(f\"Index ut of bounds\")\n",
        "\n",
        "  def get(self, index:int) -> T:\n",
        "    self._check_bounds(index)\n",
        "    return self._arr[index] #type: ignore[return-value]\n",
        "\n",
        "  def __getitem__(self, index:int) -> T:\n",
        "    return self.get(index)\n",
        "\n",
        "  def set(self, index:int, elem: T) -> None:\n",
        "    self._check_bounds(index)\n",
        "    self._arr[index] = elem #type: ignore[return-value]\n",
        "\n",
        "  def __setitem__(self, index:int, elem:T) -> None:\n",
        "    return self.set(index, elem)\n",
        "\n",
        "  #clear\n",
        "  def clear(self) -> None:\n",
        "    for i in range(self._len):\n",
        "      self._arr[i] = None\n",
        "    self._len = 0\n",
        "\n",
        "  #---- add/append with automatic resize ---\n",
        "  def add(self, elem: T) -> None:\n",
        "    if((self._len + 1) >= self._capacity):\n",
        "      if self._capacity == 0:\n",
        "        self._capacity = 1\n",
        "      self._capacity *= 2\n",
        "      new_arr = [None] * self._capacity\n",
        "      for i in range(self._len):\n",
        "        new_arr[i] = self._arr[i]\n",
        "\n",
        "      self._arr = new_arr\n",
        "    self._arr[self._len] = elem\n",
        "    self._len += 1\n",
        "\n",
        "  def append(self, elem:T) -> None:\n",
        "    self.add(elem)\n",
        "\n",
        "  def remove_at(self, rm_index:int) -> T:\n",
        "    self._check_bounds(rm_index)\n",
        "    rm_elem = self._arr[rm_index] #Optional [T], but truly assigned\n",
        "    #Create a new array with size len-1\n",
        "    new_arr: List[Optional[T]] = [None] * (self._len - 1)\n",
        "    j = 0\n",
        "    for i in range(self._len):\n",
        "      if i == rm_index:\n",
        "        continue\n",
        "      new_arr[j] = self._arr[i]\n",
        "      j+1\n",
        "\n",
        "    self._arr = new_arr\n",
        "    self._len -= 1\n",
        "    return rm_elem #type: ignore[return-value]\n",
        "\n",
        "  # ---remove by value --------\n",
        "  def remove(self, obj:object) -> bool:\n",
        "    index = self._index_of(obj)\n",
        "    if index == -1:\n",
        "      return False\n",
        "    self.remove_at(index)\n",
        "    return True\n",
        "\n",
        "  #--- search ---\n",
        "  def index_of(self, obj:object) -> int\n",
        "    for i in range(self._len):\n",
        "      if obj is None:\n",
        "        if self._arr[i] is None:\n",
        "          return i\n",
        "      else:\n",
        "        if obj == self._arr[i]:\n",
        "          return i\n",
        "    return -1\n",
        "\n",
        "  def contains(self, obj:object) -> bool:\n",
        "    return self.index_of(obj) != -1\n",
        "\n",
        "\n"
      ],
      "metadata": {
        "id": "2myDdiF8FkAQ"
      },
      "execution_count": null,
      "outputs": []
    },
    {
      "cell_type": "code",
      "source": [],
      "metadata": {
        "id": "1CjNmD3PFj-R"
      },
      "execution_count": null,
      "outputs": []
    },
    {
      "cell_type": "code",
      "source": [],
      "metadata": {
        "id": "_cTU4TdBFj8J"
      },
      "execution_count": null,
      "outputs": []
    },
    {
      "cell_type": "code",
      "source": [],
      "metadata": {
        "id": "qHcwMgJWFj5-"
      },
      "execution_count": null,
      "outputs": []
    },
    {
      "cell_type": "code",
      "source": [],
      "metadata": {
        "id": "44JueqXDFj3y"
      },
      "execution_count": null,
      "outputs": []
    },
    {
      "cell_type": "code",
      "source": [],
      "metadata": {
        "id": "RCQ7hcAsFj2A"
      },
      "execution_count": null,
      "outputs": []
    },
    {
      "cell_type": "code",
      "source": [],
      "metadata": {
        "id": "C3IKWK0yFj0J"
      },
      "execution_count": null,
      "outputs": []
    },
    {
      "cell_type": "code",
      "source": [],
      "metadata": {
        "id": "N_CUc8lfFjx_"
      },
      "execution_count": null,
      "outputs": []
    },
    {
      "cell_type": "code",
      "source": [],
      "metadata": {
        "id": "_DKvlCJHFjwG"
      },
      "execution_count": null,
      "outputs": []
    }
  ]
}