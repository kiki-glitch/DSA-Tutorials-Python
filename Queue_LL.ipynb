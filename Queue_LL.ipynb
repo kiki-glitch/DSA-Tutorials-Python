{
  "nbformat": 4,
  "nbformat_minor": 0,
  "metadata": {
    "colab": {
      "provenance": [],
      "authorship_tag": "ABX9TyO7EV3Ew6npR/gaVEoce6K+",
      "include_colab_link": true
    },
    "kernelspec": {
      "name": "python3",
      "display_name": "Python 3"
    },
    "language_info": {
      "name": "python"
    }
  },
  "cells": [
    {
      "cell_type": "markdown",
      "metadata": {
        "id": "view-in-github",
        "colab_type": "text"
      },
      "source": [
        "<a href=\"https://colab.research.google.com/github/kiki-glitch/DSA-Tutorials-Python/blob/main/Queue_LL.ipynb\" target=\"_parent\"><img src=\"https://colab.research.google.com/assets/colab-badge.svg\" alt=\"Open In Colab\"/></a>"
      ]
    },
    {
      "cell_type": "code",
      "execution_count": null,
      "metadata": {
        "id": "xn2anupMhsxb"
      },
      "outputs": [],
      "source": [
        "from collections import deque\n",
        "from typing import Deque, Generic, Iterator, TypeVar\n",
        "\n",
        "T = TypeVar(\"T\")"
      ]
    },
    {
      "cell_type": "code",
      "source": [
        "class Queue(Generic[T]):\n",
        "  def __init__(self, first_elem:T | None = None):\n",
        "    self._queue: Deque[T] = deque()\n",
        "    if first_elem is not None:\n",
        "      self.enqueue(first_elem)\n",
        "\n",
        "  def enqueue(self, elem:T) -> None:\n",
        "    self._queue.append(elem)\n",
        "\n",
        "  def dequeue(self) -> T:\n",
        "    return self._queue.popleft()\n",
        "\n",
        "  def size(self) -> int:\n",
        "    return len(self._queue)\n",
        "\n",
        "  def __len__(self) -> int:\n",
        "    return self.size()\n",
        "\n",
        "  def is_empty(self) -> bool:\n",
        "    return self.size() == 0\n",
        "\n",
        "  def peek(self) -> T:\n",
        "    if self.is_empty():\n",
        "      raise IndexError(\"Queue is empty\")\n",
        "    return self._queue[0]\n",
        "\n",
        "  def __iter__(self) -> Iterator[T]:\n",
        "    return iter(self._queue)\n",
        "\n",
        "  def __str__(self) -> str:\n",
        "    return str(self._queue)"
      ],
      "metadata": {
        "id": "kSktR2O2gZ8S"
      },
      "execution_count": null,
      "outputs": []
    },
    {
      "cell_type": "code",
      "source": [],
      "metadata": {
        "id": "sWSX_IXxgZ4x"
      },
      "execution_count": null,
      "outputs": []
    },
    {
      "cell_type": "code",
      "source": [],
      "metadata": {
        "id": "q05ZHp9ZgZ2o"
      },
      "execution_count": null,
      "outputs": []
    },
    {
      "cell_type": "code",
      "source": [],
      "metadata": {
        "id": "3_iRVOKTgZ0M"
      },
      "execution_count": null,
      "outputs": []
    }
  ]
}