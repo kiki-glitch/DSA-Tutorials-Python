{
  "nbformat": 4,
  "nbformat_minor": 0,
  "metadata": {
    "colab": {
      "provenance": [],
      "authorship_tag": "ABX9TyN8baUDkJbDCuJBbDWHZmEA",
      "include_colab_link": true
    },
    "kernelspec": {
      "name": "python3",
      "display_name": "Python 3"
    },
    "language_info": {
      "name": "python"
    }
  },
  "cells": [
    {
      "cell_type": "markdown",
      "metadata": {
        "id": "view-in-github",
        "colab_type": "text"
      },
      "source": [
        "<a href=\"https://colab.research.google.com/github/kiki-glitch/DSA-Tutorials-Python/blob/main/Double_Linked_List.ipynb\" target=\"_parent\"><img src=\"https://colab.research.google.com/assets/colab-badge.svg\" alt=\"Open In Colab\"/></a>"
      ]
    },
    {
      "cell_type": "code",
      "execution_count": 1,
      "metadata": {
        "id": "CtkoQJeh5aUY"
      },
      "outputs": [],
      "source": [
        "from __future__ import annotations\n",
        "from dataclasses import dataclass\n",
        "from typing import Generic, Iterator, Optional, TypeVar\n"
      ]
    },
    {
      "cell_type": "code",
      "source": [
        "T = TypeVar('T')"
      ],
      "metadata": {
        "id": "V902gSz0BMur"
      },
      "execution_count": null,
      "outputs": []
    },
    {
      "cell_type": "code",
      "source": [
        "class _Node(Generic[T]):\n",
        "  data: Optional[T]\n",
        "  next: Optional[\"_Node[T]\"] = None\n",
        "  prev: Optional[\"_Node[T]\"] = None\n",
        "\n",
        "class DoubleLinkedList(Generic[T]):\n",
        "  def __init__(self)->None:\n",
        "    self._size: int = 0\n",
        "    self._head: Optional[_Node[T]] = None\n",
        "    self._tail: Optional[_Node[T]] = None\n",
        "\n",
        "  def clear(self) -> None:\n",
        "    trav = self._head\n",
        "    while trav:\n",
        "      next = trav.next\n",
        "      trav.next = None\n",
        "      trav.prev = None\n",
        "      trav.data = None\n",
        "      next = trav\n",
        "    self._head = None\n",
        "    self._tail = None\n",
        "    self._size = 0\n",
        "\n",
        "  #--size--\n",
        "  def size(self) -> int:\n",
        "    return self._size\n",
        "\n",
        "  def __len__(self) -> int:\n",
        "    return self._size\n",
        "\n",
        "  def __is_empy(self) -> bool:\n",
        "    return self._size == 0\n",
        "\n",
        "  def add(self, elem:T) -> None:\n",
        "    return self.add_last(elem)\n",
        "\n",
        "  def add_last(self, elem:T) -> None:\n",
        "    if self.__is_empy():\n",
        "      self._head = self._tail = _Node[T](elem)\n",
        "    else:\n",
        "      assert self._tail is not None\n",
        "      node = _Node[T](elem, prev=self._tail, next=None)\n",
        "      self._tail.next = node\n",
        "      self._tail = node\n",
        "    self._size += 1\n",
        "\n",
        "  def add_first(self,elem:T)->None:\n",
        "    if self.__is_empy():\n",
        "      self._head = self._tail = _Node[T](elem)\n",
        "    else:\n",
        "      assert self._head is not None\n",
        "      node = _Node[T](elem, prev=None, next=self._head)\n",
        "      self._head.prev = node\n",
        "      self._head = node\n",
        "    self._size += 1\n",
        "\n",
        "\n"
      ],
      "metadata": {
        "colab": {
          "base_uri": "https://localhost:8080/",
          "height": 106
        },
        "id": "2gYJ94D3BMnP",
        "outputId": "5de34fcb-7b96-48d1-d905-ca07c3d5f7d7"
      },
      "execution_count": 2,
      "outputs": [
        {
          "output_type": "error",
          "ename": "SyntaxError",
          "evalue": "incomplete input (ipython-input-2594177828.py, line 39)",
          "traceback": [
            "\u001b[0;36m  File \u001b[0;32m\"/tmp/ipython-input-2594177828.py\"\u001b[0;36m, line \u001b[0;32m39\u001b[0m\n\u001b[0;31m    \u001b[0m\n\u001b[0m    ^\u001b[0m\n\u001b[0;31mSyntaxError\u001b[0m\u001b[0;31m:\u001b[0m incomplete input\n"
          ]
        }
      ]
    },
    {
      "cell_type": "code",
      "source": [],
      "metadata": {
        "id": "QnwkPvtYBMjs"
      },
      "execution_count": null,
      "outputs": []
    },
    {
      "cell_type": "code",
      "source": [],
      "metadata": {
        "id": "yQeuHTspBMg1"
      },
      "execution_count": null,
      "outputs": []
    },
    {
      "cell_type": "code",
      "source": [],
      "metadata": {
        "id": "o-fJqS4FBMdz"
      },
      "execution_count": null,
      "outputs": []
    },
    {
      "cell_type": "code",
      "source": [],
      "metadata": {
        "id": "FcCyvMI4BMaR"
      },
      "execution_count": null,
      "outputs": []
    },
    {
      "cell_type": "code",
      "source": [],
      "metadata": {
        "id": "ojowAMwOBMWv"
      },
      "execution_count": null,
      "outputs": []
    },
    {
      "cell_type": "code",
      "source": [],
      "metadata": {
        "id": "SYpgK8pyBMTV"
      },
      "execution_count": null,
      "outputs": []
    }
  ]
}