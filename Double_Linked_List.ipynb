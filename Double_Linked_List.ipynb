{
  "nbformat": 4,
  "nbformat_minor": 0,
  "metadata": {
    "colab": {
      "provenance": [],
      "authorship_tag": "ABX9TyOT0ZxDtXt8yGB+VTyy0SNv",
      "include_colab_link": true
    },
    "kernelspec": {
      "name": "python3",
      "display_name": "Python 3"
    },
    "language_info": {
      "name": "python"
    }
  },
  "cells": [
    {
      "cell_type": "markdown",
      "metadata": {
        "id": "view-in-github",
        "colab_type": "text"
      },
      "source": [
        "<a href=\"https://colab.research.google.com/github/kiki-glitch/DSA-Tutorials-Python/blob/main/Double_Linked_List.ipynb\" target=\"_parent\"><img src=\"https://colab.research.google.com/assets/colab-badge.svg\" alt=\"Open In Colab\"/></a>"
      ]
    },
    {
      "cell_type": "code",
      "execution_count": 1,
      "metadata": {
        "id": "CtkoQJeh5aUY"
      },
      "outputs": [],
      "source": [
        "from __future__ import annotations\n",
        "from dataclasses import dataclass\n",
        "from typing import Generic, Iterator, Optional, TypeVar\n"
      ]
    },
    {
      "cell_type": "code",
      "source": [
        "T = TypeVar('T')"
      ],
      "metadata": {
        "id": "V902gSz0BMur"
      },
      "execution_count": null,
      "outputs": []
    },
    {
      "cell_type": "code",
      "source": [
        "class _Node(Generic[T]):\n",
        "  data: Optional[T]\n",
        "  next: Optional[\"_Node[T]\"] = None\n",
        "  prev: Optional[\"_Node[T]\"] = None\n",
        "\n",
        "class DoubleLinkedList(Generic[T]):\n",
        "  def __init__(self)->None:\n",
        "    self._size: int = 0\n",
        "    self._head: Optional[_Node[T]] = None\n",
        "    self._tail: Optional[_Node[T]] = None\n",
        "\n",
        "  def clear(self) -> None:\n",
        "    trav = self._head\n",
        "    while trav:\n",
        "      next = trav.next\n",
        "      trav.next = None\n",
        "      trav.prev = None\n",
        "      trav.data = None\n",
        "      next = trav\n",
        "    self._head = None\n",
        "    self._tail = None\n",
        "    self._size = 0\n",
        "\n",
        "\n"
      ],
      "metadata": {
        "id": "2gYJ94D3BMnP"
      },
      "execution_count": null,
      "outputs": []
    },
    {
      "cell_type": "code",
      "source": [],
      "metadata": {
        "id": "QnwkPvtYBMjs"
      },
      "execution_count": null,
      "outputs": []
    },
    {
      "cell_type": "code",
      "source": [],
      "metadata": {
        "id": "yQeuHTspBMg1"
      },
      "execution_count": null,
      "outputs": []
    },
    {
      "cell_type": "code",
      "source": [],
      "metadata": {
        "id": "o-fJqS4FBMdz"
      },
      "execution_count": null,
      "outputs": []
    },
    {
      "cell_type": "code",
      "source": [],
      "metadata": {
        "id": "FcCyvMI4BMaR"
      },
      "execution_count": null,
      "outputs": []
    },
    {
      "cell_type": "code",
      "source": [],
      "metadata": {
        "id": "ojowAMwOBMWv"
      },
      "execution_count": null,
      "outputs": []
    },
    {
      "cell_type": "code",
      "source": [],
      "metadata": {
        "id": "SYpgK8pyBMTV"
      },
      "execution_count": null,
      "outputs": []
    }
  ]
}