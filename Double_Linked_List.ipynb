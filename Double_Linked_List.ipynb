{
  "nbformat": 4,
  "nbformat_minor": 0,
  "metadata": {
    "colab": {
      "provenance": [],
      "authorship_tag": "ABX9TyMoDYrYGxg/2C3oJcZqmQsd",
      "include_colab_link": true
    },
    "kernelspec": {
      "name": "python3",
      "display_name": "Python 3"
    },
    "language_info": {
      "name": "python"
    }
  },
  "cells": [
    {
      "cell_type": "markdown",
      "metadata": {
        "id": "view-in-github",
        "colab_type": "text"
      },
      "source": [
        "<a href=\"https://colab.research.google.com/github/kiki-glitch/DSA-Tutorials-Python/blob/main/Double_Linked_List.ipynb\" target=\"_parent\"><img src=\"https://colab.research.google.com/assets/colab-badge.svg\" alt=\"Open In Colab\"/></a>"
      ]
    },
    {
      "cell_type": "code",
      "execution_count": 46,
      "metadata": {
        "id": "CtkoQJeh5aUY"
      },
      "outputs": [],
      "source": [
        "from __future__ import annotations\n",
        "from dataclasses import dataclass\n",
        "from typing import Generic, Iterator, Optional, TypeVar\n"
      ]
    },
    {
      "cell_type": "code",
      "source": [
        "T = TypeVar('T')"
      ],
      "metadata": {
        "id": "V902gSz0BMur"
      },
      "execution_count": 47,
      "outputs": []
    },
    {
      "cell_type": "code",
      "source": [
        "@dataclass\n",
        "class _Node(Generic[T]):\n",
        "  data: Optional[T]\n",
        "  next: Optional[\"_Node[T]\"] = None\n",
        "  prev: Optional[\"_Node[T]\"] = None\n",
        "\n",
        "class DoublyLinkedList(Generic[T]):\n",
        "  def __init__(self)->None:\n",
        "    self._size: int = 0\n",
        "    self._head: Optional[_Node[T]] = None\n",
        "    self._tail: Optional[_Node[T]] = None\n",
        "\n",
        "  def clear(self) -> None:\n",
        "    trav = self._head\n",
        "    while trav:\n",
        "      next = trav.next\n",
        "      trav.next = None\n",
        "      trav.prev = None\n",
        "      trav.data = None\n",
        "      next = trav\n",
        "    self._head = None\n",
        "    self._tail = None\n",
        "    self._size = 0\n",
        "\n",
        "  #--size--\n",
        "  def size(self) -> int:\n",
        "    return self._size\n",
        "\n",
        "  def __len__(self) -> int:\n",
        "    return self._size\n",
        "\n",
        "  def is_empty(self) -> bool:\n",
        "    return self._size == 0\n",
        "\n",
        "  def add(self, elem:T) -> None:\n",
        "    return self.add_last(elem)\n",
        "\n",
        "  def add_last(self, elem:T) -> None:\n",
        "    if self.is_empty():\n",
        "      self._head = self._tail = _Node[T](elem)\n",
        "    else:\n",
        "      assert self._tail is not None\n",
        "      node = _Node[T](elem, prev=self._tail, next=None)\n",
        "      self._tail.next = node\n",
        "      self._tail = node\n",
        "    self._size += 1\n",
        "\n",
        "  def add_first(self,elem:T)->None:\n",
        "    if self.is_empty():\n",
        "      self._head = self._tail = _Node[T](elem)\n",
        "    else:\n",
        "      assert self._head is not None\n",
        "      node = _Node[T](elem, prev=None, next=self._head)\n",
        "      self._head.prev = node\n",
        "      self._head = node\n",
        "    self._size += 1\n",
        "\n",
        " #---peek--\n",
        "  def peek_first(self) -> Optional[T]:\n",
        "    if self.is_empty():\n",
        "      raise ndexError(\"List is empty\")\n",
        "    assert self._head is not None\n",
        "    return self._head.data\n",
        "\n",
        "  def peek_last(self) -> Optional[T]:\n",
        "    if self.is_empty():\n",
        "      raise IndexError(\"List is empty\")\n",
        "    assert self._tail is not None\n",
        "    return self._tail.data\n",
        "\n",
        "  def removeFirst(self) -> Optional[T]:\n",
        "    if self.is_empty():\n",
        "      raise IndexError(\"List is empty\")\n",
        "    assert self._head is not None\n",
        "    data = self._head.data\n",
        "    self._head = self._head.next\n",
        "    if self._head:\n",
        "      self._head.prev = None\n",
        "    else:\n",
        "      self.tail = None\n",
        "    self._size -= 1\n",
        "    return data\n",
        "\n",
        "  def removeLast(self) -> Optional[T]:\n",
        "    if self.is_empty():\n",
        "      raise IndexError(\"List is empty\")\n",
        "    assert self._tail is not None\n",
        "    data = self._tail.data\n",
        "    self._tail = self._tail.prev\n",
        "    if self._tail:\n",
        "      self._tail.next = None\n",
        "    else:\n",
        "      self._head = None\n",
        "    self._size -= 1\n",
        "    return data\n",
        "\n",
        "  def _remove_node(self, node:_Node[T])-> Optional[T]:\n",
        "    if node.prev is None:\n",
        "      return self.removeFirst()\n",
        "    elif node.next is None:\n",
        "      return self.removeLast()\n",
        "    assert node.prev is not None and node.next is not None\n",
        "    node.prev.next = node.next\n",
        "    node.next.prev = node.prev\n",
        "    data = node.data\n",
        "    node.data = node.next = node.prev = None\n",
        "    self._size -= 1\n",
        "    return data\n",
        "\n",
        "  def remove_at(self, index:int) -> T:\n",
        "    if index < 0 or index >= self._size:\n",
        "      raise IndexError(\"Index out of range\")\n",
        "    if index == 0:\n",
        "      return self.removeFirst()\n",
        "    elif index == self._size - 1:\n",
        "      return self.removeLast()\n",
        "    if index < self.size // 2:\n",
        "      trav = self._head\n",
        "      for _ in range(index):\n",
        "        trav = trav.next\n",
        "    else:\n",
        "      trav = self._tail\n",
        "      for _ in range(self.size - 1, index, -1):\n",
        "        trav = trav.prev\n",
        "    return self._remove_node(trav)\n",
        "\n",
        "  def remove(self, obj: object) -> bool:\n",
        "    trav = self._head\n",
        "    if trav is not None:\n",
        "      if obj is None:\n",
        "        if trav.data is None:\n",
        "          self._remove_node(trav); return True\n",
        "      else:\n",
        "        if trav.data == obj:\n",
        "          self._remove_node(trav); return True\n",
        "      trav = trav.next\n",
        "    return False\n",
        "\n",
        "  def index_of(self, obj: object) -> int:\n",
        "    idx = 0\n",
        "    trav = self._head\n",
        "    if trav is not None:\n",
        "      if obj is None:\n",
        "        if trav.data is None:\n",
        "          return idx\n",
        "      else:\n",
        "        if trav.data == obj:\n",
        "          return idx\n",
        "      trav = trav.next\n",
        "      idx += 1\n",
        "    return -1\n",
        "\n",
        "  def contains(self, obj: object) -> bool:\n",
        "    return self.index_of(obj) != -1\n",
        "\n",
        "  def __iter__(self) -> Iterator[T]:\n",
        "    trav = self._head\n",
        "    while trav:\n",
        "      yield trav.data\n",
        "      trav = trav.next\n",
        "\n",
        "  def __repr__(self) -> str:\n",
        "    return \"[ \" + \", \".join(str(x) for x in self) + \" ] \"\n",
        "\n"
      ],
      "metadata": {
        "id": "2gYJ94D3BMnP"
      },
      "execution_count": 48,
      "outputs": []
    },
    {
      "cell_type": "code",
      "source": [
        "dll = DoublyLinkedList[int]()\n",
        "dll.add_first(2)    # [ 2 ]\n",
        "dll.add_last(3)     # [ 2, 3 ]\n",
        "dll.add(4)          # alias of add_last -> [ 2, 3, 4 ]\n",
        "print(dll.peek_first(), dll.peek_last())  # 2 4\n",
        "dll.removeFirst()  # returns 2; list is [ 3, 4 ]\n",
        "dll.removeLast()   # returns 4; list is [ 3 ]\n",
        "dll.add_first(1)    # [ 1, 3 ]\n",
        "print(dll.index_of(3))   # 1\n",
        "dll.remove(1)       # True; [ 3 ]\n",
        "print(dll)          # [ 3 ]\n"
      ],
      "metadata": {
        "colab": {
          "base_uri": "https://localhost:8080/"
        },
        "id": "QnwkPvtYBMjs",
        "outputId": "114eed65-311d-4ba9-e630-b4abae2ced79"
      },
      "execution_count": 49,
      "outputs": [
        {
          "output_type": "stream",
          "name": "stdout",
          "text": [
            "2 4\n",
            "-1\n",
            "[ 3 ] \n"
          ]
        }
      ]
    },
    {
      "cell_type": "code",
      "source": [],
      "metadata": {
        "id": "yQeuHTspBMg1"
      },
      "execution_count": 49,
      "outputs": []
    },
    {
      "cell_type": "code",
      "source": [],
      "metadata": {
        "id": "o-fJqS4FBMdz"
      },
      "execution_count": 49,
      "outputs": []
    },
    {
      "cell_type": "code",
      "source": [],
      "metadata": {
        "id": "FcCyvMI4BMaR"
      },
      "execution_count": 49,
      "outputs": []
    },
    {
      "cell_type": "code",
      "source": [],
      "metadata": {
        "id": "ojowAMwOBMWv"
      },
      "execution_count": 49,
      "outputs": []
    },
    {
      "cell_type": "code",
      "source": [],
      "metadata": {
        "id": "SYpgK8pyBMTV"
      },
      "execution_count": 49,
      "outputs": []
    }
  ]
}