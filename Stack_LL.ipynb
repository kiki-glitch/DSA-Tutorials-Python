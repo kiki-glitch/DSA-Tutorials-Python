{
  "nbformat": 4,
  "nbformat_minor": 0,
  "metadata": {
    "colab": {
      "provenance": [],
      "authorship_tag": "ABX9TyO/UezTKKIFWwWBTu02AQOX",
      "include_colab_link": true
    },
    "kernelspec": {
      "name": "python3",
      "display_name": "Python 3"
    },
    "language_info": {
      "name": "python"
    }
  },
  "cells": [
    {
      "cell_type": "markdown",
      "metadata": {
        "id": "view-in-github",
        "colab_type": "text"
      },
      "source": [
        "<a href=\"https://colab.research.google.com/github/kiki-glitch/DSA-Tutorials-Python/blob/main/Stack_LL.ipynb\" target=\"_parent\"><img src=\"https://colab.research.google.com/assets/colab-badge.svg\" alt=\"Open In Colab\"/></a>"
      ]
    },
    {
      "cell_type": "code",
      "execution_count": 1,
      "metadata": {
        "id": "6hOQJLN9NlYl"
      },
      "outputs": [],
      "source": [
        "from typing import Generic, TypeVar, Optional, Iterator"
      ]
    },
    {
      "cell_type": "code",
      "source": [
        "T = TypeVar(\"T\")"
      ],
      "metadata": {
        "id": "DJ8qE6ydNmeB"
      },
      "execution_count": 2,
      "outputs": []
    },
    {
      "cell_type": "code",
      "source": [
        "class LinkedListStack(Generic[T]):\n",
        "  class _Node(Generic[T]):\n",
        "    __slots__ = (\"data\", \"next\")\n",
        "    def __init__(self, data: T, next: Optional[\"LinkedListStack._Node[T]\"] = None) -> None:\n",
        "      self.data = data\n",
        "      self.next = next\n",
        "  def __init__(self) -> None:\n",
        "    self._size = 0\n",
        "    self._head: Optional[LinkedListStack._Node[T]] = None\n",
        "\n",
        "  #--size--\n",
        "\n",
        "  def size(self) -> int:\n",
        "    return self._size\n",
        "\n",
        "  def __len__(self) -> int:\n",
        "    return self._size\n",
        "\n",
        "  def is_empty(self) -> bool:\n",
        "    return self._size == 0\n",
        "\n",
        "  #--push---\n",
        "  def push(self, data:T)-> None:\n",
        "    self._head = self._Node(data, self._head)\n",
        "    self._size += 1\n",
        "\n",
        "  def peek(self) -> Optional[T]:\n",
        "    if self._head:\n",
        "      return self._head.data\n",
        "    else:\n",
        "      raise IndexError(\"Stack is empty\")\n",
        "\n",
        "  def pop(self) -> Optional[T]:\n",
        "    if self.is_empty():\n",
        "      raise IndexError(\"Stack is empty\")\n",
        "    value = self._head.data\n",
        "    self.head = self._head.next\n",
        "    self._size -= 1\n",
        "    return value\n",
        "\n",
        "  def clear(self):\n",
        "    curr = self._head\n",
        "    while curr is not None:\n",
        "      nxt = curr.next\n",
        "      curr.next = None\n",
        "      curr = nxt\n",
        "\n",
        "    self._head = None\n",
        "    self._size = 0\n",
        "\n",
        "  def __iter__(self) -> Iterator[T]:\n",
        "    curr = self._head\n",
        "    while curr:\n",
        "      yield curr.data\n",
        "      curr = curr.next\n",
        "\n",
        "  def __repr__(self) -> str:\n",
        "    return \"LinkedListStack([\" + \", \".join(repr(x) for x in self) + \"])\"\n"
      ],
      "metadata": {
        "id": "N70IThHeNmaf"
      },
      "execution_count": 9,
      "outputs": []
    },
    {
      "cell_type": "code",
      "source": [
        "s = LinkedListStack[int]()\n",
        "s.push(10); s.push(20); s.push(30)\n",
        "print(s)          # LinkedListStack([30, 20, 10])\n",
        "print(s.peek())   # 30\n",
        "print(s.pop())    # 30\n",
        "print(len(s))     # 2\n",
        "print(s.is_empty())  # False\n",
        "s.clear()\n",
        "print(s.is_empty())  # True\n"
      ],
      "metadata": {
        "colab": {
          "base_uri": "https://localhost:8080/"
        },
        "id": "JwbT-nAEdbDt",
        "outputId": "1da03c06-f2cf-4252-af54-990462f307f3"
      },
      "execution_count": 10,
      "outputs": [
        {
          "output_type": "stream",
          "name": "stdout",
          "text": [
            "LinkedListStack([30, 20, 10])\n",
            "30\n",
            "30\n",
            "2\n",
            "False\n",
            "True\n"
          ]
        }
      ]
    }
  ]
}