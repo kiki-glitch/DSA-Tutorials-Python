{
  "nbformat": 4,
  "nbformat_minor": 0,
  "metadata": {
    "colab": {
      "provenance": [],
      "authorship_tag": "ABX9TyPNl5to1sUVMFJ7mVoSs9eh",
      "include_colab_link": true
    },
    "kernelspec": {
      "name": "python3",
      "display_name": "Python 3"
    },
    "language_info": {
      "name": "python"
    }
  },
  "cells": [
    {
      "cell_type": "markdown",
      "metadata": {
        "id": "view-in-github",
        "colab_type": "text"
      },
      "source": [
        "<a href=\"https://colab.research.google.com/github/kiki-glitch/DSA-Tutorials-Python/blob/main/Stack_LL.ipynb\" target=\"_parent\"><img src=\"https://colab.research.google.com/assets/colab-badge.svg\" alt=\"Open In Colab\"/></a>"
      ]
    },
    {
      "cell_type": "code",
      "execution_count": null,
      "metadata": {
        "id": "6hOQJLN9NlYl"
      },
      "outputs": [],
      "source": [
        "from typing import Generic, TypeVar, Optional, Iterator"
      ]
    },
    {
      "cell_type": "code",
      "source": [
        "T = TypeVar(\"T\")"
      ],
      "metadata": {
        "id": "DJ8qE6ydNmeB"
      },
      "execution_count": null,
      "outputs": []
    },
    {
      "cell_type": "code",
      "source": [
        "class LinkedListStack(Generic[T]):\n",
        "  class Node(Genric[T]):\n",
        "    __slots__ = (\"data\", \"next\")\n",
        "    def __init__(self, data: T, next: Optional[\"LinkedListStack._Node[T]\"] = None) -> None:\n",
        "      self.data = data\n",
        "      self.next = next\n",
        "  def __init__(self) -> None:\n",
        "    self._size = 0\n",
        "    self._head: Optional[LinkedListStack._Node[T]] = None\n",
        "\n",
        "  #--size--\n",
        "\n",
        "  def size(self) -> int:\n",
        "    return self._size\n",
        "\n",
        "  def __len__(self) -> int:\n",
        "    return self._size\n",
        "\n",
        "  def is_empty(self) -> bool:\n",
        "    return self._size == 0\n",
        "\n",
        "  #--push---\n",
        "  def push(self, data:T)-> None:\n",
        "    self._head = self._Node(value, self._head)\n",
        "    self._size += 1\n",
        "\n",
        "  def peek(self) -> Optional[T]:\n",
        "    return self._head.data if self._head else raise IndexError(\"Stack is empty\")\n",
        "\n",
        "  def pop(self) -> Optional[T]:\n",
        "    if self.is_empty():\n",
        "      raise IndexError(\"Stack is empty\")\n",
        "    value = self._head.data\n",
        "    self.head = self._head.next\n",
        "    self._size -= 1\n",
        "    return value\n",
        "\n"
      ],
      "metadata": {
        "id": "N70IThHeNmaf"
      },
      "execution_count": null,
      "outputs": []
    }
  ]
}